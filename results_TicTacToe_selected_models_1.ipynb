{
 "cells": [
  {
   "cell_type": "markdown",
   "metadata": {},
   "source": [
    "#### Results two agents environment TicTacToe "
   ]
  },
  {
   "cell_type": "markdown",
   "metadata": {},
   "source": [
    "Link: https://pettingzoo.farama.org/environments/classic/tictactoe/"
   ]
  },
  {
   "cell_type": "markdown",
   "metadata": {},
   "source": [
    "##### Import libraries"
   ]
  },
  {
   "cell_type": "code",
   "execution_count": 12,
   "metadata": {},
   "outputs": [],
   "source": [
    "import numpy as np\n",
    "from pettingzoo.classic import tictactoe_v3\n",
    "from ctransformers import AutoModelForCausalLM\n",
    "import os\n",
    "import numpy as np\n",
    "import re\n",
    "import requests\n",
    "import time"
   ]
  },
  {
   "cell_type": "markdown",
   "metadata": {},
   "source": [
    "##### Selected models"
   ]
  },
  {
   "cell_type": "code",
   "execution_count": 13,
   "metadata": {},
   "outputs": [],
   "source": [
    "# LLM API details (Modify if needed)\n",
    "LLM_API_URL = \"http://localhost:1234/v1/chat/completions\"  # Change to your LM Studio API URL\n",
    "#MODEL_NAME =\"Mistral-Nemo-Instruct-2407-GGUF\"\n",
    "MODEL_NAME = \"Phi-4-mini-instruct-GGUF\"\n",
    "#MODEL_NAME =\"Qwen2-0.5B-Instruct-GGUF\""
   ]
  },
  {
   "cell_type": "markdown",
   "metadata": {},
   "source": [
    "##### Creating the instruction"
   ]
  },
  {
   "cell_type": "code",
   "execution_count": 14,
   "metadata": {},
   "outputs": [],
   "source": [
    "instruction = \"\"\"\n",
    "You are an expert Tic-Tac-Toe player. You must always follow the best strategy to win the game or block your opponent from winning.\n",
    "\n",
    "Use this reasoning process:\n",
    "\n",
    "1. Check if YOU can win on this turn. If yes, make that move.\n",
    "2. If not, check if your OPPONENT could win on their next move. If yes, block it.\n",
    "3. Otherwise, choose the best available strategic position (like center or corners).\n",
    "\n",
    "Output ONLY the number of the chosen move (0–8) based on your decision.\n",
    "\n",
    "Think step-by-step before giving the final number. But output only the number, without explanation.\n",
    "\"\"\""
   ]
  },
  {
   "cell_type": "markdown",
   "metadata": {},
   "source": [
    "##### Creating the prompt"
   ]
  },
  {
   "cell_type": "code",
   "execution_count": 15,
   "metadata": {},
   "outputs": [],
   "source": [
    "def build_prompt(board_array, valid_moves, agent_name):\n",
    "    board_str = \"\"\n",
    "    cell_num = 0\n",
    "    for row in board_array:\n",
    "        row_str = \"\"\n",
    "        for cell in row:\n",
    "            if cell[0] == 1:\n",
    "                row_str += \"X\"\n",
    "            elif cell[1] == 1:\n",
    "                row_str += \"O\"\n",
    "            else:\n",
    "                row_str += str(cell_num)\n",
    "            cell_num += 1\n",
    "        board_str += row_str + \"\\n\"\n",
    "\n",
    "    current_player = \"X\" if agent_name == \"player_1\" else \"O\"\n",
    "    opponent = \"O\" if current_player == \"X\" else \"X\"\n",
    "\n",
    "    prompt = f\"\"\"\n",
    "    You are playing as {current_player}. Your opponent is {opponent}.\n",
    "\n",
    "    This is the current Tic-Tac-Toe board. The numbers indicate empty positions:\n",
    "\n",
    "    {board_str}\n",
    "\n",
    "    Valid move positions: {valid_moves.tolist()}\n",
    "\n",
    "    Think step-by-step:\n",
    "    - Can you win this turn? Play that move.\n",
    "    - Can your opponent win next turn? Block it.\n",
    "    - Otherwise, choose the best long-term position.\n",
    "\n",
    "    Now make your move by writing only the position number (0–8).\n",
    "    \"\"\"\n",
    "    return prompt.strip()"
   ]
  },
  {
   "cell_type": "markdown",
   "metadata": {},
   "source": [
    "##### Calling the LLM"
   ]
  },
  {
   "cell_type": "code",
   "execution_count": 16,
   "metadata": {},
   "outputs": [],
   "source": [
    "\n",
    "def query_llm(instruction, prompt):\n",
    "    payload = {\n",
    "        \"model\": MODEL_NAME,\n",
    "        \"messages\": [\n",
    "            {\"role\": \"system\", \"content\": instruction},\n",
    "            {\"role\": \"user\", \"content\": prompt}\n",
    "        ],\n",
    "        \"temperature\": 0.0,\n",
    "        \"max_tokens\": 8,\n",
    "        \"stop\": [\"\\n\"]\n",
    "    }\n",
    "\n",
    "    try:\n",
    "        response = requests.post(LLM_API_URL, json=payload)\n",
    "        response.raise_for_status()\n",
    "        return response.json()[\"choices\"][0][\"message\"][\"content\"].strip()\n",
    "    except Exception as e:\n",
    "        print(f\" LLM call failed: {e}\")\n",
    "        return \"\"\n"
   ]
  },
  {
   "cell_type": "markdown",
   "metadata": {},
   "source": [
    "##### Defining the move of the agent"
   ]
  },
  {
   "cell_type": "code",
   "execution_count": 17,
   "metadata": {},
   "outputs": [],
   "source": [
    "\n",
    "def parse_llm_output(output, valid_moves):\n",
    "    match = re.search(r\"\\b(\\d)\\b\", output.strip())\n",
    "    if match:\n",
    "        move = int(match.group(1))\n",
    "        if move in valid_moves:\n",
    "            return move\n",
    "        else:\n",
    "            print(f\"LLM chose invalid move: {move}, not in valid_moves {valid_moves}\")\n",
    "    else:\n",
    "        print(f\"LLM output not understood: {output}\")\n",
    "\n",
    "    # Fallback to random valid move\n",
    "    fallback = int(np.random.choice(valid_moves))\n",
    "    print(f\"allback to random valid move: {fallback}\")\n",
    "    return fallback\n"
   ]
  },
  {
   "cell_type": "markdown",
   "metadata": {},
   "source": [
    "##### Defining the agent class with action"
   ]
  },
  {
   "cell_type": "code",
   "execution_count": 18,
   "metadata": {},
   "outputs": [],
   "source": [
    "\n",
    "class LLM_Agent:\n",
    "    def __init__(self, name=\"LLM\"):\n",
    "        self.name = name\n",
    "\n",
    "    def get_action(self, observation, agent_name):\n",
    "        board = observation[\"observation\"].reshape(3, 3, 2)\n",
    "        valid_moves = np.flatnonzero(observation[\"action_mask\"])\n",
    "\n",
    "        prompt = build_prompt(board, valid_moves, agent_name)\n",
    "        response = query_llm(instruction, prompt)\n",
    "\n",
    "        #print(f\"\\n[{self.name}] Prompt sent:\\n{prompt}\")\n",
    "        #print(f\"[{self.name}] LLM Response: {response}\")\n",
    "\n",
    "        action = parse_llm_output(response, valid_moves)\n",
    "        print(f\"[{self.name}] Chosen action: {action}\\n\")\n",
    "\n",
    "        return action\n",
    "\n"
   ]
  },
  {
   "cell_type": "markdown",
   "metadata": {},
   "source": [
    "##### Running the game function -- using rewards function from environment -- this is not working as expected."
   ]
  },
  {
   "cell_type": "code",
   "execution_count": null,
   "metadata": {},
   "outputs": [],
   "source": [
    "# Use this function to print the final board in a readable format and to show the winner\n",
    "def print_final_board(board):\n",
    "    for row in board:\n",
    "        row_str = \"\"\n",
    "        for cell in row:\n",
    "            if cell[0] == 1:\n",
    "                row_str += \"X\"\n",
    "            elif cell[1] == 1:\n",
    "                row_str += \"O\"\n",
    "            else:\n",
    "                row_str += \" \"  # No marker for empty cells\n",
    "        print(row_str)\n",
    "\n",
    "def run_game():\n",
    "    \n",
    "    # Set up the environment\n",
    "    env = tictactoe_v3.env(render_mode=\"human\")\n",
    "    env.reset(seed=42)\n",
    "\n",
    "    agent_1 = LLM_Agent(name=\"Mistral_X\")\n",
    "    agent_2 = LLM_Agent(name=\"Mistral_O\")\n",
    "    agents = {\"player_1\": agent_1, \"player_2\": agent_2}\n",
    "    all_agents = env.possible_agents[:]  # Always includes both\n",
    "\n",
    "    move_history = []\n",
    "    start_time = time.time()\n",
    "\n",
    "    # Randomize first move if X starts\n",
    "    if env.agent_selection == \"player_1\":\n",
    "        obs, _, _, _, _ = env.last()\n",
    "        valid_moves = np.flatnonzero(obs[\"action_mask\"])\n",
    "        first_action = int(np.random.choice(valid_moves))\n",
    "        env.step(first_action)\n",
    "        move_history.append((\"player_1\", first_action))\n",
    "\n",
    "    # Main game loop\n",
    "    for agent_name in env.agent_iter():\n",
    "        obs, reward, terminated, truncated, info = env.last()\n",
    "        done = terminated or truncated\n",
    "\n",
    "        if not done:\n",
    "            action = agents[agent_name].get_action(obs, agent_name)\n",
    "            move_history.append((agent_name, action))\n",
    "        else:\n",
    "            action = None\n",
    "\n",
    "        env.step(action)\n",
    "\n",
    "    # Finalisation: step any remaining agent with None\n",
    "    if env.agents:\n",
    "        obs, _, _, _, _ = env.last()\n",
    "        env.step(None)  # Let last agent acknowledge terminal state\n",
    "\n",
    "    end_time = time.time()\n",
    "    elapsed_time = end_time - start_time\n",
    "\n",
    "    # Get final rewards\n",
    "    rewards = {agent: env.rewards.get(agent, 0) for agent in all_agents}\n",
    "\n",
    "    # Get final board\n",
    "    final_obs = obs[\"observation\"].reshape(3, 3, 2)\n",
    "\n",
    "    print(\"🏁 Game Over!\")\n",
    "    print(f\"\\nFinal Board:\")\n",
    "    print_final_board(final_obs)\n",
    "\n",
    "    print(f\"\\nGame duration: {elapsed_time:.2f} seconds\")\n",
    "    print(\"Final Rewards:\", rewards)\n",
    "\n",
    "    # Determine the winner - based on the rewards- is not working as expected\n",
    "    if rewards[\"player_1\"] == 1:\n",
    "        print(\"🏆 Winner: Mistral_X (player_1)\")\n",
    "    elif rewards[\"player_2\"] == 1:\n",
    "        print(\"🏆 Winner: Mistral_O (player_2)\")\n",
    "    else:\n",
    "        print(\"🤝 It's a draw!\")\n",
    "\n",
    "    print(\"\\nMove History:\")\n",
    "    for i, (agent, move) in enumerate(move_history):\n",
    "        print(f\"Turn {i+1}: {agent} → {move}\")\n",
    "\n",
    "\n",
    "\n"
   ]
  },
  {
   "cell_type": "markdown",
   "metadata": {},
   "source": [
    "##### Update version of Running the game with manual assigning reward to winnin g agent. "
   ]
  },
  {
   "cell_type": "code",
   "execution_count": 19,
   "metadata": {},
   "outputs": [],
   "source": [
    "# Use this to detect the winner \n",
    "def print_final_board(board):\n",
    "    for row in board:\n",
    "        row_str = \"\"\n",
    "        for cell in row:\n",
    "            if cell[0] == 1:\n",
    "                row_str += \"X\"\n",
    "            elif cell[1] == 1:\n",
    "                row_str += \"O\"\n",
    "            else:\n",
    "                row_str += \" \"\n",
    "        print(row_str)\n",
    "\n",
    "# Use this function to detect the winner because the rewards from the environment are always 0\n",
    "def detect_winner(board):\n",
    "    board = board.argmax(axis=2)  # 0 for X, 1 for O, 2 = empty\n",
    "    for player, label in [(0, \"player_1\"), (1, \"player_2\")]:\n",
    "        for i in range(3):\n",
    "            if all(board[i, :] == player): return label\n",
    "            if all(board[:, i] == player): return label\n",
    "        if all(np.diag(board) == player): return label\n",
    "        if all(np.diag(np.fliplr(board)) == player): return label\n",
    "    return None\n",
    "\n",
    "def run_game():\n",
    "    env = tictactoe_v3.env(render_mode=\"human\")\n",
    "    env.reset(seed=42)\n",
    "\n",
    "    agent_1 = LLM_Agent(name=\"Mistral_X\")\n",
    "    agent_2 = LLM_Agent(name=\"Mistral_O\")\n",
    "    agents = {\"player_1\": agent_1, \"player_2\": agent_2}\n",
    "    all_agents = env.possible_agents[:]\n",
    "    move_history = []\n",
    "\n",
    "    # Randomize opening move\n",
    "    if env.agent_selection == \"player_1\":\n",
    "        obs, _, _, _, _ = env.last()\n",
    "        valid_moves = np.flatnonzero(obs[\"action_mask\"])\n",
    "        first_action = int(np.random.choice(valid_moves))\n",
    "        env.step(first_action)\n",
    "        move_history.append((\"player_1\", first_action))\n",
    "\n",
    "    start_time = time.time()\n",
    "    last_obs = None\n",
    "\n",
    "    # Main game loop\n",
    "    for agent_name in env.agent_iter():\n",
    "        obs, reward, terminated, truncated, info = env.last()\n",
    "        if obs is not None:\n",
    "            last_obs = obs\n",
    "\n",
    "        done = terminated or truncated\n",
    "        if not done:\n",
    "            action = agents[agent_name].get_action(obs, agent_name)\n",
    "            move_history.append((agent_name, action))\n",
    "        else:\n",
    "            action = None\n",
    "\n",
    "        env.step(action)\n",
    "\n",
    "    end_time = time.time()\n",
    "    elapsed_time = end_time - start_time\n",
    "\n",
    "    # Manually check winner\n",
    "    final_board = last_obs[\"observation\"].reshape(3, 3, 2)\n",
    "    winner = detect_winner(final_board)\n",
    "\n",
    "    rewards = {agent: 0 for agent in all_agents}\n",
    "    if winner:\n",
    "        rewards[winner] = 1\n",
    "        loser = [a for a in all_agents if a != winner][0]\n",
    "        rewards[loser] = -1\n",
    "\n",
    "    # Final Output\n",
    "    print(\"🏁 Game Over!\")\n",
    "    print(\"\\nFinal Board:\")\n",
    "    print_final_board(final_board)\n",
    "\n",
    "    print(f\"\\n⏱️ Game duration: {elapsed_time:.2f} seconds\")\n",
    "    print(\"🎯 Final Rewards:\", rewards)\n",
    "\n",
    "    if winner:\n",
    "        print(f\"🏆 Winner: {agents[winner].name} ({winner})\")\n",
    "    else:\n",
    "        print(\"🤝 It's a draw!\")\n",
    "\n",
    "    print(\"\\n Move History:\")\n",
    "    for i, (agent, move) in enumerate(move_history):\n",
    "        print(f\"Turn {i+1}: {agent} → {move}\")\n",
    "\n",
    "    print(\"\\nPress any key in the game window to close...\")\n",
    "\n",
    "\n",
    "    env.close()  # Clean up environment window after game ends"
   ]
  },
  {
   "cell_type": "markdown",
   "metadata": {},
   "source": [
    "##### Playing the game Mistral Nemo 2407 Instruct"
   ]
  },
  {
   "cell_type": "code",
   "execution_count": 11,
   "metadata": {},
   "outputs": [
    {
     "name": "stdout",
     "output_type": "stream",
     "text": [
      "[Mistral_O] Chosen action: 2\n",
      "\n",
      "[Mistral_X] Chosen action: 3\n",
      "\n",
      "[Mistral_O] Chosen action: 4\n",
      "\n",
      "[Mistral_X] Chosen action: 6\n",
      "\n",
      "🏁 Game Over!\n",
      "\n",
      "Final Board:\n",
      "X O\n",
      "XO \n",
      "X  \n",
      "\n",
      "⏱️ Game duration: 15.60 seconds\n",
      "🎯 Final Rewards: {'player_1': 1, 'player_2': -1}\n",
      "🏆 Winner: Mistral_X (player_1)\n",
      "\n",
      " Move History:\n",
      "Turn 1: player_1 → 0\n",
      "Turn 2: player_2 → 2\n",
      "Turn 3: player_1 → 3\n",
      "Turn 4: player_2 → 4\n",
      "Turn 5: player_1 → 6\n",
      "\n",
      "Press any key in the game window to close...\n"
     ]
    }
   ],
   "source": [
    "if __name__ == \"__main__\":\n",
    "    run_game()"
   ]
  },
  {
   "cell_type": "markdown",
   "metadata": {},
   "source": [
    "##### Paying the game Phi-4 mini instruct"
   ]
  },
  {
   "cell_type": "code",
   "execution_count": null,
   "metadata": {},
   "outputs": [
    {
     "name": "stdout",
     "output_type": "stream",
     "text": [
      "[Mistral_O] Chosen action: 5\n",
      "\n",
      "[Mistral_X] Chosen action: 6\n",
      "\n",
      "[Mistral_O] Chosen action: 2\n",
      "\n",
      "[Mistral_X] Chosen action: 3\n",
      "\n",
      "LLM output not understood: Based on a strategic Tic-Tac\n",
      "allback to random valid move: 7\n",
      "[Mistral_O] Chosen action: 7\n",
      "\n",
      "LLM chose invalid move: 7, not in valid_moves [0 1 8]\n",
      "allback to random valid move: 8\n",
      "[Mistral_X] Chosen action: 8\n",
      "\n",
      "LLM chose invalid move: 7, not in valid_moves [0 1]\n",
      "allback to random valid move: 1\n",
      "[Mistral_O] Chosen action: 1\n",
      "\n",
      "LLM chose invalid move: 7, not in valid_moves [0]\n",
      "allback to random valid move: 0\n",
      "[Mistral_X] Chosen action: 0\n",
      "\n",
      "🏁 Game Over!\n",
      "\n",
      "Final Board:\n",
      "XOO\n",
      "XXO\n",
      "XOX\n",
      "\n",
      "⏱️ Game duration: 24.71 seconds\n",
      "🎯 Final Rewards: {'player_1': 1, 'player_2': -1}\n",
      "🏆 Winner: Mistral_X (player_1)\n",
      "\n",
      " Move History:\n",
      "Turn 1: player_1 → 4\n",
      "Turn 2: player_2 → 5\n",
      "Turn 3: player_1 → 6\n",
      "Turn 4: player_2 → 2\n",
      "Turn 5: player_1 → 3\n",
      "Turn 6: player_2 → 7\n",
      "Turn 7: player_1 → 8\n",
      "Turn 8: player_2 → 1\n",
      "Turn 9: player_1 → 0\n",
      "\n",
      "Press any key in the game window to close...\n"
     ]
    },
    {
     "ename": "",
     "evalue": "",
     "output_type": "error",
     "traceback": [
      "\u001b[1;31mThe Kernel crashed while executing code in the current cell or a previous cell. \n",
      "\u001b[1;31mPlease review the code in the cell(s) to identify a possible cause of the failure. \n",
      "\u001b[1;31mClick <a href='https://aka.ms/vscodeJupyterKernelCrash'>here</a> for more info. \n",
      "\u001b[1;31mView Jupyter <a href='command:jupyter.viewOutput'>log</a> for further details."
     ]
    }
   ],
   "source": [
    "if __name__ == \"__main__\":\n",
    "    run_game()"
   ]
  }
 ],
 "metadata": {
  "kernelspec": {
   "display_name": "Python 3",
   "language": "python",
   "name": "python3"
  },
  "language_info": {
   "codemirror_mode": {
    "name": "ipython",
    "version": 3
   },
   "file_extension": ".py",
   "mimetype": "text/x-python",
   "name": "python",
   "nbconvert_exporter": "python",
   "pygments_lexer": "ipython3",
   "version": "3.12.9"
  }
 },
 "nbformat": 4,
 "nbformat_minor": 2
}
